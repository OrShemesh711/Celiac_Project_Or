{
 "cells": [
  {
   "cell_type": "markdown",
   "metadata": {},
   "source": [
    "# Support Vector Machines\n",
    "\n",
    "** Credit: [Pieriandata.com](http://www.pieriandata.com) **"
   ]
  },
  {
   "cell_type": "code",
   "execution_count": 1,
   "metadata": {},
   "outputs": [],
   "source": [
    "import pandas as pd\n",
    "import numpy as np\n",
    "import matplotlib.pyplot as plt\n",
    "import seaborn as sns\n",
    "%matplotlib inline"
   ]
  },
  {
   "cell_type": "markdown",
   "metadata": {},
   "source": [
    "# Get Data- OR"
   ]
  },
  {
   "cell_type": "code",
   "execution_count": 3,
   "metadata": {},
   "outputs": [],
   "source": [
    "data_all = pd.read_pickle('DATA_FREQ_VDJ_CDR3_98')"
   ]
  },
  {
   "cell_type": "code",
   "execution_count": 4,
   "metadata": {},
   "outputs": [
    {
     "data": {
      "text/plain": [
       "array(['V2_J2_VJ', 'D6-19', 'V4-4', 'D3-10', 'V4-34', 'V2_J4-VJ', 'V1-8',\n",
       "       'J4', 'D7-27', 'V1_J4_VJ', 'V1-58', 'V4_J3-VJ', 'D6-13',\n",
       "       'V2_J1-VJ', 'V1_J2-VJ', 'D3-16', '69-JL', '21-JL', 'V1_J5_VJ',\n",
       "       '9-JL', 'V4/OR15-8', 'V3-19', 'V2_J2-VJ', 'V6_J4-VJ', 'D2/OR15-2a',\n",
       "       '6-JL', '56-JL', 'V1_J4-VJ', 'V2_J5_VJ', 'V1-2', '50-JL', '47-JL',\n",
       "       'V5_J2-VJ', 'V3-49', '66-JL', '72-JL', 'V3-20', 'V3_J5_VJ',\n",
       "       '99-JL', '45-JL', 'V4-31', 'V3-38', 'V7_J6_VJ', 'V1',\n",
       "       'CDR3_AA_AROMATIC.mean', 'V2_J6-VJ', 'D3', 'V3_J1-VJ', 'V7-4-1',\n",
       "       'D6-25', '33-JL', 'V3-23', '52-JL', 'V3-33', 'V1_J3_VJ', 'V3-47',\n",
       "       '60-JL', 'D6-6', '114-JL', 'V7', 'V7_J5_VJ', 'D5/OR15-5a', 'D1-7',\n",
       "       'V4_J1-VJ', 'D5', 'V7_J6-VJ', 'V6_J4_VJ', '48-JL', 'D5-24'],\n",
       "      dtype=object)"
      ]
     },
     "execution_count": 4,
     "metadata": {},
     "output_type": "execute_result"
    }
   ],
   "source": [
    "feature_select = pd.read_pickle('feature_importance_1')\n",
    "feature_select = feature_select.reset_index(drop=True)\n",
    "feature_list = feature_select.loc[:,'FEATURE']\n",
    "feature_list = feature_list.values\n",
    "feature_list"
   ]
  },
  {
   "cell_type": "code",
   "execution_count": 7,
   "metadata": {},
   "outputs": [
    {
     "data": {
      "text/html": [
       "<div>\n",
       "<style scoped>\n",
       "    .dataframe tbody tr th:only-of-type {\n",
       "        vertical-align: middle;\n",
       "    }\n",
       "\n",
       "    .dataframe tbody tr th {\n",
       "        vertical-align: top;\n",
       "    }\n",
       "\n",
       "    .dataframe thead th {\n",
       "        text-align: right;\n",
       "    }\n",
       "</style>\n",
       "<table border=\"1\" class=\"dataframe\">\n",
       "  <thead>\n",
       "    <tr style=\"text-align: right;\">\n",
       "      <th></th>\n",
       "      <th>V2_J2_VJ</th>\n",
       "      <th>48-JL</th>\n",
       "      <th>V7-4-1</th>\n",
       "      <th>V1_J3_VJ</th>\n",
       "      <th>21-JL</th>\n",
       "      <th>V1-2</th>\n",
       "      <th>V1-8</th>\n",
       "      <th>SEX</th>\n",
       "      <th>D2/OR15-2a</th>\n",
       "      <th>SUBJECTn</th>\n",
       "      <th>...</th>\n",
       "      <th>V2_J5_VJ</th>\n",
       "      <th>V3_J5_VJ</th>\n",
       "      <th>D5/OR15-5a</th>\n",
       "      <th>D6-25</th>\n",
       "      <th>V4-4</th>\n",
       "      <th>V3_J1-VJ</th>\n",
       "      <th>V7_J6-VJ</th>\n",
       "      <th>69-JL</th>\n",
       "      <th>60-JL</th>\n",
       "      <th>V5_J2-VJ</th>\n",
       "    </tr>\n",
       "  </thead>\n",
       "  <tbody>\n",
       "    <tr>\n",
       "      <th>0</th>\n",
       "      <td>0.000561</td>\n",
       "      <td>0.109024</td>\n",
       "      <td>0.000484</td>\n",
       "      <td>0.019093</td>\n",
       "      <td>0.001988</td>\n",
       "      <td>0.008590</td>\n",
       "      <td>0.015167</td>\n",
       "      <td>NaN</td>\n",
       "      <td>0.005761</td>\n",
       "      <td>BC_10</td>\n",
       "      <td>...</td>\n",
       "      <td>0.004384</td>\n",
       "      <td>0.039816</td>\n",
       "      <td>0.001759</td>\n",
       "      <td>0.003288</td>\n",
       "      <td>0.017767</td>\n",
       "      <td>0.004614</td>\n",
       "      <td>0.000127</td>\n",
       "      <td>0.036732</td>\n",
       "      <td>0.077696</td>\n",
       "      <td>0.001224</td>\n",
       "    </tr>\n",
       "    <tr>\n",
       "      <th>1</th>\n",
       "      <td>0.000655</td>\n",
       "      <td>0.112142</td>\n",
       "      <td>0.000135</td>\n",
       "      <td>0.024007</td>\n",
       "      <td>0.001309</td>\n",
       "      <td>0.022197</td>\n",
       "      <td>0.015864</td>\n",
       "      <td>NaN</td>\n",
       "      <td>0.006719</td>\n",
       "      <td>BC_11</td>\n",
       "      <td>...</td>\n",
       "      <td>0.003812</td>\n",
       "      <td>0.033306</td>\n",
       "      <td>0.001367</td>\n",
       "      <td>0.003427</td>\n",
       "      <td>0.018232</td>\n",
       "      <td>0.007162</td>\n",
       "      <td>0.000039</td>\n",
       "      <td>0.032266</td>\n",
       "      <td>0.076449</td>\n",
       "      <td>0.001290</td>\n",
       "    </tr>\n",
       "    <tr>\n",
       "      <th>2</th>\n",
       "      <td>0.000472</td>\n",
       "      <td>0.106755</td>\n",
       "      <td>0.013823</td>\n",
       "      <td>0.016831</td>\n",
       "      <td>0.002312</td>\n",
       "      <td>0.031599</td>\n",
       "      <td>0.032295</td>\n",
       "      <td>NaN</td>\n",
       "      <td>0.007806</td>\n",
       "      <td>BC_12</td>\n",
       "      <td>...</td>\n",
       "      <td>0.005445</td>\n",
       "      <td>0.038809</td>\n",
       "      <td>0.001218</td>\n",
       "      <td>0.003282</td>\n",
       "      <td>0.008279</td>\n",
       "      <td>0.003754</td>\n",
       "      <td>0.003058</td>\n",
       "      <td>0.042637</td>\n",
       "      <td>0.078115</td>\n",
       "      <td>0.001094</td>\n",
       "    </tr>\n",
       "    <tr>\n",
       "      <th>3</th>\n",
       "      <td>0.001541</td>\n",
       "      <td>0.109867</td>\n",
       "      <td>0.000247</td>\n",
       "      <td>0.021854</td>\n",
       "      <td>0.001658</td>\n",
       "      <td>0.016445</td>\n",
       "      <td>NaN</td>\n",
       "      <td>NaN</td>\n",
       "      <td>0.006180</td>\n",
       "      <td>BC_13</td>\n",
       "      <td>...</td>\n",
       "      <td>0.008259</td>\n",
       "      <td>0.033530</td>\n",
       "      <td>0.001076</td>\n",
       "      <td>0.002850</td>\n",
       "      <td>0.002675</td>\n",
       "      <td>0.005394</td>\n",
       "      <td>0.000145</td>\n",
       "      <td>0.033225</td>\n",
       "      <td>0.075581</td>\n",
       "      <td>0.001556</td>\n",
       "    </tr>\n",
       "    <tr>\n",
       "      <th>4</th>\n",
       "      <td>0.000587</td>\n",
       "      <td>0.102922</td>\n",
       "      <td>0.000213</td>\n",
       "      <td>0.026980</td>\n",
       "      <td>0.001583</td>\n",
       "      <td>0.032458</td>\n",
       "      <td>0.021644</td>\n",
       "      <td>NaN</td>\n",
       "      <td>0.005211</td>\n",
       "      <td>BC_14</td>\n",
       "      <td>...</td>\n",
       "      <td>0.003913</td>\n",
       "      <td>0.034556</td>\n",
       "      <td>0.001014</td>\n",
       "      <td>0.002792</td>\n",
       "      <td>0.020346</td>\n",
       "      <td>0.006474</td>\n",
       "      <td>0.000018</td>\n",
       "      <td>0.042720</td>\n",
       "      <td>0.077916</td>\n",
       "      <td>0.001387</td>\n",
       "    </tr>\n",
       "  </tbody>\n",
       "</table>\n",
       "<p>5 rows × 72 columns</p>\n",
       "</div>"
      ],
      "text/plain": [
       "   V2_J2_VJ     48-JL    V7-4-1  V1_J3_VJ     21-JL      V1-2      V1-8  SEX  \\\n",
       "0  0.000561  0.109024  0.000484  0.019093  0.001988  0.008590  0.015167  NaN   \n",
       "1  0.000655  0.112142  0.000135  0.024007  0.001309  0.022197  0.015864  NaN   \n",
       "2  0.000472  0.106755  0.013823  0.016831  0.002312  0.031599  0.032295  NaN   \n",
       "3  0.001541  0.109867  0.000247  0.021854  0.001658  0.016445       NaN  NaN   \n",
       "4  0.000587  0.102922  0.000213  0.026980  0.001583  0.032458  0.021644  NaN   \n",
       "\n",
       "   D2/OR15-2a SUBJECTn    ...     V2_J5_VJ  V3_J5_VJ  D5/OR15-5a     D6-25  \\\n",
       "0    0.005761    BC_10    ...     0.004384  0.039816    0.001759  0.003288   \n",
       "1    0.006719    BC_11    ...     0.003812  0.033306    0.001367  0.003427   \n",
       "2    0.007806    BC_12    ...     0.005445  0.038809    0.001218  0.003282   \n",
       "3    0.006180    BC_13    ...     0.008259  0.033530    0.001076  0.002850   \n",
       "4    0.005211    BC_14    ...     0.003913  0.034556    0.001014  0.002792   \n",
       "\n",
       "       V4-4  V3_J1-VJ  V7_J6-VJ     69-JL     60-JL  V5_J2-VJ  \n",
       "0  0.017767  0.004614  0.000127  0.036732  0.077696  0.001224  \n",
       "1  0.018232  0.007162  0.000039  0.032266  0.076449  0.001290  \n",
       "2  0.008279  0.003754  0.003058  0.042637  0.078115  0.001094  \n",
       "3  0.002675  0.005394  0.000145  0.033225  0.075581  0.001556  \n",
       "4  0.020346  0.006474  0.000018  0.042720  0.077916  0.001387  \n",
       "\n",
       "[5 rows x 72 columns]"
      ]
     },
     "execution_count": 7,
     "metadata": {},
     "output_type": "execute_result"
    }
   ],
   "source": [
    "data_select = data_all.loc[:,{'SUBJECTn','SEX','CLIN','V2_J2_VJ', 'D6-19', 'V4-4', 'D3-10', 'V4-34', 'V2_J4-VJ', 'V1-8',\n",
    "       'J4', 'D7-27', 'V1_J4_VJ', 'V1-58', 'V4_J3-VJ', 'D6-13',\n",
    "       'V2_J1-VJ', 'V1_J2-VJ', 'D3-16', '69-JL', '21-JL', 'V1_J5_VJ',\n",
    "       '9-JL', 'V4/OR15-8', 'V3-19', 'V2_J2-VJ', 'V6_J4-VJ', 'D2/OR15-2a',\n",
    "       '6-JL', '56-JL', 'V1_J4-VJ', 'V2_J5_VJ', 'V1-2', '50-JL', '47-JL',\n",
    "       'V5_J2-VJ', 'V3-49', '66-JL', '72-JL', 'V3-20', 'V3_J5_VJ',\n",
    "       '99-JL', '45-JL', 'V4-31', 'V3-38', 'V7_J6_VJ', 'V1',\n",
    "       'CDR3_AA_AROMATIC.mean', 'V2_J6-VJ', 'D3', 'V3_J1-VJ', 'V7-4-1',\n",
    "       'D6-25', '33-JL', 'V3-23', '52-JL', 'V3-33', 'V1_J3_VJ', 'V3-47',\n",
    "       '60-JL', 'D6-6', '114-JL', 'V7', 'V7_J5_VJ', 'D5/OR15-5a', 'D1-7',\n",
    "       'V4_J1-VJ', 'D5', 'V7_J6-VJ', 'V6_J4_VJ', '48-JL', 'D5-24'}]\n",
    "data_select.head()"
   ]
  },
  {
   "cell_type": "code",
   "execution_count": 9,
   "metadata": {},
   "outputs": [
    {
     "data": {
      "text/html": [
       "<div>\n",
       "<style scoped>\n",
       "    .dataframe tbody tr th:only-of-type {\n",
       "        vertical-align: middle;\n",
       "    }\n",
       "\n",
       "    .dataframe tbody tr th {\n",
       "        vertical-align: top;\n",
       "    }\n",
       "\n",
       "    .dataframe thead th {\n",
       "        text-align: right;\n",
       "    }\n",
       "</style>\n",
       "<table border=\"1\" class=\"dataframe\">\n",
       "  <thead>\n",
       "    <tr style=\"text-align: right;\">\n",
       "      <th></th>\n",
       "      <th>SUBJECTn</th>\n",
       "      <th>SEX</th>\n",
       "      <th>CLIN</th>\n",
       "      <th>V2_J2_VJ</th>\n",
       "      <th>D6-19</th>\n",
       "      <th>V4-4</th>\n",
       "      <th>D3-10</th>\n",
       "      <th>V4-34</th>\n",
       "      <th>V2_J4-VJ</th>\n",
       "      <th>V1-8</th>\n",
       "      <th>...</th>\n",
       "      <th>V7</th>\n",
       "      <th>V7_J5_VJ</th>\n",
       "      <th>D5/OR15-5a</th>\n",
       "      <th>D1-7</th>\n",
       "      <th>V4_J1-VJ</th>\n",
       "      <th>D5</th>\n",
       "      <th>V7_J6-VJ</th>\n",
       "      <th>V6_J4_VJ</th>\n",
       "      <th>48-JL</th>\n",
       "      <th>D5-24</th>\n",
       "    </tr>\n",
       "  </thead>\n",
       "  <tbody>\n",
       "    <tr>\n",
       "      <th>0</th>\n",
       "      <td>BC_10</td>\n",
       "      <td>NaN</td>\n",
       "      <td>Healthy</td>\n",
       "      <td>0.000561</td>\n",
       "      <td>0.078486</td>\n",
       "      <td>0.017767</td>\n",
       "      <td>0.081137</td>\n",
       "      <td>0.072598</td>\n",
       "      <td>0.012210</td>\n",
       "      <td>0.015167</td>\n",
       "      <td>...</td>\n",
       "      <td>0.000484</td>\n",
       "      <td>0.000102</td>\n",
       "      <td>0.001759</td>\n",
       "      <td>0.017461</td>\n",
       "      <td>0.002014</td>\n",
       "      <td>0.099286</td>\n",
       "      <td>0.000127</td>\n",
       "      <td>0.004028</td>\n",
       "      <td>0.109024</td>\n",
       "      <td>0.024675</td>\n",
       "    </tr>\n",
       "    <tr>\n",
       "      <th>1</th>\n",
       "      <td>BC_11</td>\n",
       "      <td>NaN</td>\n",
       "      <td>Healthy</td>\n",
       "      <td>0.000655</td>\n",
       "      <td>0.074485</td>\n",
       "      <td>0.018232</td>\n",
       "      <td>0.083361</td>\n",
       "      <td>0.076468</td>\n",
       "      <td>0.014189</td>\n",
       "      <td>0.015864</td>\n",
       "      <td>...</td>\n",
       "      <td>0.000154</td>\n",
       "      <td>NaN</td>\n",
       "      <td>0.001367</td>\n",
       "      <td>0.010011</td>\n",
       "      <td>0.003446</td>\n",
       "      <td>0.092101</td>\n",
       "      <td>0.000039</td>\n",
       "      <td>0.004351</td>\n",
       "      <td>0.112142</td>\n",
       "      <td>0.025643</td>\n",
       "    </tr>\n",
       "    <tr>\n",
       "      <th>2</th>\n",
       "      <td>BC_12</td>\n",
       "      <td>NaN</td>\n",
       "      <td>Healthy</td>\n",
       "      <td>0.000472</td>\n",
       "      <td>0.071899</td>\n",
       "      <td>0.008279</td>\n",
       "      <td>0.084206</td>\n",
       "      <td>0.152027</td>\n",
       "      <td>0.012306</td>\n",
       "      <td>0.032295</td>\n",
       "      <td>...</td>\n",
       "      <td>0.013848</td>\n",
       "      <td>0.002983</td>\n",
       "      <td>0.001218</td>\n",
       "      <td>0.011809</td>\n",
       "      <td>0.003282</td>\n",
       "      <td>0.094100</td>\n",
       "      <td>0.003058</td>\n",
       "      <td>0.004475</td>\n",
       "      <td>0.106755</td>\n",
       "      <td>0.025781</td>\n",
       "    </tr>\n",
       "    <tr>\n",
       "      <th>3</th>\n",
       "      <td>BC_13</td>\n",
       "      <td>NaN</td>\n",
       "      <td>Healthy</td>\n",
       "      <td>0.001541</td>\n",
       "      <td>0.091517</td>\n",
       "      <td>0.002675</td>\n",
       "      <td>0.084669</td>\n",
       "      <td>0.096606</td>\n",
       "      <td>0.023439</td>\n",
       "      <td>NaN</td>\n",
       "      <td>...</td>\n",
       "      <td>0.000247</td>\n",
       "      <td>0.000029</td>\n",
       "      <td>0.001076</td>\n",
       "      <td>0.009931</td>\n",
       "      <td>0.003199</td>\n",
       "      <td>0.102524</td>\n",
       "      <td>0.000145</td>\n",
       "      <td>0.003126</td>\n",
       "      <td>0.109867</td>\n",
       "      <td>0.029793</td>\n",
       "    </tr>\n",
       "    <tr>\n",
       "      <th>4</th>\n",
       "      <td>BC_14</td>\n",
       "      <td>NaN</td>\n",
       "      <td>Healthy</td>\n",
       "      <td>0.000587</td>\n",
       "      <td>0.079908</td>\n",
       "      <td>0.020346</td>\n",
       "      <td>0.086329</td>\n",
       "      <td>0.071229</td>\n",
       "      <td>0.010813</td>\n",
       "      <td>0.021644</td>\n",
       "      <td>...</td>\n",
       "      <td>0.000231</td>\n",
       "      <td>0.000089</td>\n",
       "      <td>0.001014</td>\n",
       "      <td>0.008750</td>\n",
       "      <td>0.002774</td>\n",
       "      <td>0.071923</td>\n",
       "      <td>0.000018</td>\n",
       "      <td>0.003539</td>\n",
       "      <td>0.102922</td>\n",
       "      <td>0.018745</td>\n",
       "    </tr>\n",
       "  </tbody>\n",
       "</table>\n",
       "<p>5 rows × 72 columns</p>\n",
       "</div>"
      ],
      "text/plain": [
       "  SUBJECTn  SEX     CLIN  V2_J2_VJ     D6-19      V4-4     D3-10     V4-34  \\\n",
       "0    BC_10  NaN  Healthy  0.000561  0.078486  0.017767  0.081137  0.072598   \n",
       "1    BC_11  NaN  Healthy  0.000655  0.074485  0.018232  0.083361  0.076468   \n",
       "2    BC_12  NaN  Healthy  0.000472  0.071899  0.008279  0.084206  0.152027   \n",
       "3    BC_13  NaN  Healthy  0.001541  0.091517  0.002675  0.084669  0.096606   \n",
       "4    BC_14  NaN  Healthy  0.000587  0.079908  0.020346  0.086329  0.071229   \n",
       "\n",
       "   V2_J4-VJ      V1-8    ...           V7  V7_J5_VJ  D5/OR15-5a      D1-7  \\\n",
       "0  0.012210  0.015167    ...     0.000484  0.000102    0.001759  0.017461   \n",
       "1  0.014189  0.015864    ...     0.000154       NaN    0.001367  0.010011   \n",
       "2  0.012306  0.032295    ...     0.013848  0.002983    0.001218  0.011809   \n",
       "3  0.023439       NaN    ...     0.000247  0.000029    0.001076  0.009931   \n",
       "4  0.010813  0.021644    ...     0.000231  0.000089    0.001014  0.008750   \n",
       "\n",
       "   V4_J1-VJ        D5  V7_J6-VJ  V6_J4_VJ     48-JL     D5-24  \n",
       "0  0.002014  0.099286  0.000127  0.004028  0.109024  0.024675  \n",
       "1  0.003446  0.092101  0.000039  0.004351  0.112142  0.025643  \n",
       "2  0.003282  0.094100  0.003058  0.004475  0.106755  0.025781  \n",
       "3  0.003199  0.102524  0.000145  0.003126  0.109867  0.029793  \n",
       "4  0.002774  0.071923  0.000018  0.003539  0.102922  0.018745  \n",
       "\n",
       "[5 rows x 72 columns]"
      ]
     },
     "execution_count": 9,
     "metadata": {},
     "output_type": "execute_result"
    }
   ],
   "source": [
    "# order coulmns for data_select \n",
    "\n",
    "data_select = data_select[['SUBJECTn','SEX','CLIN','V2_J2_VJ', 'D6-19', 'V4-4', 'D3-10', 'V4-34', 'V2_J4-VJ', 'V1-8',\n",
    "       'J4', 'D7-27', 'V1_J4_VJ', 'V1-58', 'V4_J3-VJ', 'D6-13',\n",
    "       'V2_J1-VJ', 'V1_J2-VJ', 'D3-16', '69-JL', '21-JL', 'V1_J5_VJ',\n",
    "       '9-JL', 'V4/OR15-8', 'V3-19', 'V2_J2-VJ', 'V6_J4-VJ', 'D2/OR15-2a',\n",
    "       '6-JL', '56-JL', 'V1_J4-VJ', 'V2_J5_VJ', 'V1-2', '50-JL', '47-JL',\n",
    "       'V5_J2-VJ', 'V3-49', '66-JL', '72-JL', 'V3-20', 'V3_J5_VJ',\n",
    "       '99-JL', '45-JL', 'V4-31', 'V3-38', 'V7_J6_VJ', 'V1',\n",
    "       'CDR3_AA_AROMATIC.mean', 'V2_J6-VJ', 'D3', 'V3_J1-VJ', 'V7-4-1',\n",
    "       'D6-25', '33-JL', 'V3-23', '52-JL', 'V3-33', 'V1_J3_VJ', 'V3-47',\n",
    "       '60-JL', 'D6-6', '114-JL', 'V7', 'V7_J5_VJ', 'D5/OR15-5a', 'D1-7',\n",
    "       'V4_J1-VJ', 'D5', 'V7_J6-VJ', 'V6_J4_VJ', '48-JL', 'D5-24']]\n",
    "data_select.head()"
   ]
  },
  {
   "cell_type": "markdown",
   "metadata": {},
   "source": [
    "# filling null data"
   ]
  },
  {
   "cell_type": "markdown",
   "metadata": {},
   "source": [
    "for data_all"
   ]
  },
  {
   "cell_type": "code",
   "execution_count": 10,
   "metadata": {},
   "outputs": [],
   "source": [
    "# Create our imputer to replace missing values with the mean e.g.\n",
    "from sklearn.preprocessing import Imputer\n",
    "imp = Imputer(missing_values='NaN', strategy='mean', axis=0)\n",
    "imp = imp.fit(data_all.iloc[:,3:])\n",
    "data_all.iloc[:,3:] = imp.transform(data_all.iloc[:,3:])"
   ]
  },
  {
   "cell_type": "markdown",
   "metadata": {},
   "source": [
    "for data_select"
   ]
  },
  {
   "cell_type": "code",
   "execution_count": 11,
   "metadata": {},
   "outputs": [],
   "source": [
    "# put mean for null\n",
    "# Create our imputer to replace missing values with the mean e.g.\n",
    "from sklearn.preprocessing import Imputer\n",
    "imp = Imputer(missing_values='NaN', strategy='mean', axis=0)\n",
    "imp = imp.fit(data_select.loc[:,{'V2_J2_VJ', 'D6-19', 'V4-4', 'D3-10', 'V4-34', 'V2_J4-VJ', 'V1-8',\n",
    "       'J4', 'D7-27', 'V1_J4_VJ', 'V1-58', 'V4_J3-VJ', 'D6-13',\n",
    "       'V2_J1-VJ', 'V1_J2-VJ', 'D3-16', '69-JL', '21-JL', 'V1_J5_VJ',\n",
    "       '9-JL', 'V4/OR15-8', 'V3-19', 'V2_J2-VJ', 'V6_J4-VJ', 'D2/OR15-2a',\n",
    "       '6-JL', '56-JL', 'V1_J4-VJ', 'V2_J5_VJ', 'V1-2', '50-JL', '47-JL',\n",
    "       'V5_J2-VJ', 'V3-49', '66-JL', '72-JL', 'V3-20', 'V3_J5_VJ',\n",
    "       '99-JL', '45-JL', 'V4-31', 'V3-38', 'V7_J6_VJ', 'V1',\n",
    "       'CDR3_AA_AROMATIC.mean', 'V2_J6-VJ', 'D3', 'V3_J1-VJ', 'V7-4-1',\n",
    "       'D6-25', '33-JL', 'V3-23', '52-JL', 'V3-33', 'V1_J3_VJ', 'V3-47',\n",
    "       '60-JL', 'D6-6', '114-JL', 'V7', 'V7_J5_VJ', 'D5/OR15-5a', 'D1-7',\n",
    "       'V4_J1-VJ', 'D5', 'V7_J6-VJ', 'V6_J4_VJ', '48-JL', 'D5-24'}])\n",
    "\n",
    "data_select.loc[:,{'V2_J2_VJ', 'D6-19', 'V4-4', 'D3-10', 'V4-34', 'V2_J4-VJ', 'V1-8',\n",
    "       'J4', 'D7-27', 'V1_J4_VJ', 'V1-58', 'V4_J3-VJ', 'D6-13',\n",
    "       'V2_J1-VJ', 'V1_J2-VJ', 'D3-16', '69-JL', '21-JL', 'V1_J5_VJ',\n",
    "       '9-JL', 'V4/OR15-8', 'V3-19', 'V2_J2-VJ', 'V6_J4-VJ', 'D2/OR15-2a',\n",
    "       '6-JL', '56-JL', 'V1_J4-VJ', 'V2_J5_VJ', 'V1-2', '50-JL', '47-JL',\n",
    "       'V5_J2-VJ', 'V3-49', '66-JL', '72-JL', 'V3-20', 'V3_J5_VJ',\n",
    "       '99-JL', '45-JL', 'V4-31', 'V3-38', 'V7_J6_VJ', 'V1',\n",
    "       'CDR3_AA_AROMATIC.mean', 'V2_J6-VJ', 'D3', 'V3_J1-VJ', 'V7-4-1',\n",
    "       'D6-25', '33-JL', 'V3-23', '52-JL', 'V3-33', 'V1_J3_VJ', 'V3-47',\n",
    "       '60-JL', 'D6-6', '114-JL', 'V7', 'V7_J5_VJ', 'D5/OR15-5a', 'D1-7',\n",
    "       'V4_J1-VJ', 'D5', 'V7_J6-VJ', 'V6_J4_VJ', '48-JL', 'D5-24'}] = imp.transform(data_select.loc[:,{'V2_J2_VJ', 'D6-19', 'V4-4', 'D3-10', 'V4-34', 'V2_J4-VJ', 'V1-8',\n",
    "       'J4', 'D7-27', 'V1_J4_VJ', 'V1-58', 'V4_J3-VJ', 'D6-13',\n",
    "       'V2_J1-VJ', 'V1_J2-VJ', 'D3-16', '69-JL', '21-JL', 'V1_J5_VJ',\n",
    "       '9-JL', 'V4/OR15-8', 'V3-19', 'V2_J2-VJ', 'V6_J4-VJ', 'D2/OR15-2a',\n",
    "       '6-JL', '56-JL', 'V1_J4-VJ', 'V2_J5_VJ', 'V1-2', '50-JL', '47-JL',\n",
    "       'V5_J2-VJ', 'V3-49', '66-JL', '72-JL', 'V3-20', 'V3_J5_VJ',\n",
    "       '99-JL', '45-JL', 'V4-31', 'V3-38', 'V7_J6_VJ', 'V1',\n",
    "       'CDR3_AA_AROMATIC.mean', 'V2_J6-VJ', 'D3', 'V3_J1-VJ', 'V7-4-1',\n",
    "       'D6-25', '33-JL', 'V3-23', '52-JL', 'V3-33', 'V1_J3_VJ', 'V3-47',\n",
    "       '60-JL', 'D6-6', '114-JL', 'V7', 'V7_J5_VJ', 'D5/OR15-5a', 'D1-7',\n",
    "       'V4_J1-VJ', 'D5', 'V7_J6-VJ', 'V6_J4_VJ', '48-JL', 'D5-24'}])"
   ]
  },
  {
   "cell_type": "code",
   "execution_count": 12,
   "metadata": {},
   "outputs": [
    {
     "data": {
      "text/plain": [
       "Index(['SUBJECTn', 'SEX', 'CLIN', 'V2_J2_VJ', 'D6-19', 'V4-4', 'D3-10',\n",
       "       'V4-34', 'V2_J4-VJ', 'V1-8', 'J4', 'D7-27', 'V1_J4_VJ', 'V1-58',\n",
       "       'V4_J3-VJ', 'D6-13', 'V2_J1-VJ', 'V1_J2-VJ', 'D3-16', '69-JL', '21-JL',\n",
       "       'V1_J5_VJ', '9-JL', 'V4/OR15-8', 'V3-19', 'V2_J2-VJ', 'V6_J4-VJ',\n",
       "       'D2/OR15-2a', '6-JL', '56-JL', 'V1_J4-VJ', 'V2_J5_VJ', 'V1-2', '50-JL',\n",
       "       '47-JL', 'V5_J2-VJ', 'V3-49', '66-JL', '72-JL', 'V3-20', 'V3_J5_VJ',\n",
       "       '99-JL', '45-JL', 'V4-31', 'V3-38', 'V7_J6_VJ', 'V1',\n",
       "       'CDR3_AA_AROMATIC.mean', 'V2_J6-VJ', 'D3', 'V3_J1-VJ', 'V7-4-1',\n",
       "       'D6-25', '33-JL', 'V3-23', '52-JL', 'V3-33', 'V1_J3_VJ', 'V3-47',\n",
       "       '60-JL', 'D6-6', '114-JL', 'V7', 'V7_J5_VJ', 'D5/OR15-5a', 'D1-7',\n",
       "       'V4_J1-VJ', 'D5', 'V7_J6-VJ', 'V6_J4_VJ', '48-JL', 'D5-24'],\n",
       "      dtype='object')"
      ]
     },
     "execution_count": 12,
     "metadata": {},
     "output_type": "execute_result"
    }
   ],
   "source": [
    "data_select.keys()"
   ]
  },
  {
   "cell_type": "code",
   "execution_count": null,
   "metadata": {},
   "outputs": [],
   "source": []
  },
  {
   "cell_type": "markdown",
   "metadata": {},
   "source": [
    "# Train Test Split\n",
    "\n",
    "** Split your data into a training set and a testing set.**"
   ]
  },
  {
   "cell_type": "code",
   "execution_count": 13,
   "metadata": {},
   "outputs": [],
   "source": [
    "from sklearn.model_selection import train_test_split\n",
    "X = data_select.drop(['CLIN','SEX','SUBJECTn'],axis=1)\n",
    "y = data_select['CLIN']\n",
    "X_train, X_test, y_train, y_test = train_test_split(X, y, test_size=0.30)"
   ]
  },
  {
   "cell_type": "markdown",
   "metadata": {},
   "source": [
    "# Train a Model\n",
    "\n",
    "Now its time to train a Support Vector Machine Classifier. \n",
    "\n",
    "**Call the SVC() model from sklearn and fit the model to the training data.**"
   ]
  },
  {
   "cell_type": "code",
   "execution_count": 14,
   "metadata": {},
   "outputs": [
    {
     "data": {
      "text/plain": [
       "SVC(C=1.0, cache_size=200, class_weight=None, coef0=0.0,\n",
       "  decision_function_shape='ovr', degree=3, gamma='auto', kernel='rbf',\n",
       "  max_iter=-1, probability=False, random_state=None, shrinking=True,\n",
       "  tol=0.001, verbose=False)"
      ]
     },
     "execution_count": 14,
     "metadata": {},
     "output_type": "execute_result"
    }
   ],
   "source": [
    "from sklearn.svm import SVC\n",
    "svc_model = SVC()\n",
    "svc_model.fit(X_train,y_train)"
   ]
  },
  {
   "cell_type": "markdown",
   "metadata": {},
   "source": [
    "## Model Evaluation\n",
    "\n",
    "**Now get predictions from the model and create a confusion matrix and a classification report.**"
   ]
  },
  {
   "cell_type": "code",
   "execution_count": 15,
   "metadata": {},
   "outputs": [
    {
     "name": "stdout",
     "output_type": "stream",
     "text": [
      "[[16  0]\n",
      " [14  0]]\n"
     ]
    }
   ],
   "source": [
    "predictions = svc_model.predict(X_test)\n",
    "\n",
    "from sklearn.metrics import classification_report,confusion_matrix\n",
    "\n",
    "print(confusion_matrix(y_test,predictions))"
   ]
  },
  {
   "cell_type": "code",
   "execution_count": 16,
   "metadata": {},
   "outputs": [
    {
     "name": "stdout",
     "output_type": "stream",
     "text": [
      "             precision    recall  f1-score   support\n",
      "\n",
      "     Celiac       0.53      1.00      0.70        16\n",
      "    Healthy       0.00      0.00      0.00        14\n",
      "\n",
      "avg / total       0.28      0.53      0.37        30\n",
      "\n"
     ]
    },
    {
     "name": "stderr",
     "output_type": "stream",
     "text": [
      "C:\\ProgramData\\Anaconda3\\lib\\site-packages\\sklearn\\metrics\\classification.py:1135: UndefinedMetricWarning: Precision and F-score are ill-defined and being set to 0.0 in labels with no predicted samples.\n",
      "  'precision', 'predicted', average, warn_for)\n"
     ]
    }
   ],
   "source": [
    "print(classification_report(y_test,predictions))"
   ]
  },
  {
   "cell_type": "markdown",
   "metadata": {},
   "source": [
    "## Gridsearch Practice\n",
    "\n",
    "** Import GridsearchCV from SciKit Learn.**"
   ]
  },
  {
   "cell_type": "markdown",
   "metadata": {},
   "source": [
    "# Gridsearch\n",
    "\n",
    "Finding the right parameters (like what C or gamma values to use) is a tricky task! But luckily, we can be a little lazy and just try a bunch of combinations and see what works best! This idea of creating a 'grid' of parameters and just trying out all the possible combinations is called a Gridsearch, this method is common enough that Scikit-learn has this functionality built in with GridSearchCV! The CV stands for cross-validation which is the\n",
    "\n",
    "GridSearchCV takes a dictionary that describes the parameters that should be tried and a model to train. The grid of parameters is defined as a dictionary, where the keys are the parameters and the values are the settings to be tested. "
   ]
  },
  {
   "cell_type": "code",
   "execution_count": 17,
   "metadata": {},
   "outputs": [
    {
     "name": "stdout",
     "output_type": "stream",
     "text": [
      "Fitting 3 folds for each of 16 candidates, totalling 48 fits\n",
      "[CV] C=0.1, gamma=1 ..................................................\n",
      "[CV] ................................... C=0.1, gamma=1, total=   0.0s\n",
      "[CV] C=0.1, gamma=1 ..................................................\n",
      "[CV] ................................... C=0.1, gamma=1, total=   0.0s\n",
      "[CV] C=0.1, gamma=1 ..................................................\n",
      "[CV] ................................... C=0.1, gamma=1, total=   0.0s\n",
      "[CV] C=0.1, gamma=0.1 ................................................\n",
      "[CV] ................................. C=0.1, gamma=0.1, total=   0.0s\n",
      "[CV] C=0.1, gamma=0.1 ................................................\n",
      "[CV] ................................. C=0.1, gamma=0.1, total=   0.0s\n",
      "[CV] C=0.1, gamma=0.1 ................................................\n",
      "[CV] ................................. C=0.1, gamma=0.1, total=   0.0s\n",
      "[CV] C=0.1, gamma=0.01 ...............................................\n",
      "[CV] ................................ C=0.1, gamma=0.01, total=   0.0s\n",
      "[CV] C=0.1, gamma=0.01 ...............................................\n",
      "[CV] ................................ C=0.1, gamma=0.01, total=   0.0s\n",
      "[CV] C=0.1, gamma=0.01 ...............................................\n",
      "[CV] ................................ C=0.1, gamma=0.01, total=   0.0s\n",
      "[CV] C=0.1, gamma=0.001 ..............................................\n",
      "[CV] ............................... C=0.1, gamma=0.001, total=   0.0s\n",
      "[CV] C=0.1, gamma=0.001 ..............................................\n",
      "[CV] ............................... C=0.1, gamma=0.001, total=   0.0s\n",
      "[CV] C=0.1, gamma=0.001 ..............................................\n",
      "[CV] ............................... C=0.1, gamma=0.001, total=   0.0s\n",
      "[CV] C=1, gamma=1 ....................................................\n",
      "[CV] ..................................... C=1, gamma=1, total=   0.0s\n",
      "[CV] C=1, gamma=1 ....................................................\n",
      "[CV] ..................................... C=1, gamma=1, total=   0.0s\n",
      "[CV] C=1, gamma=1 ....................................................\n",
      "[CV] ..................................... C=1, gamma=1, total=   0.0s\n",
      "[CV] C=1, gamma=0.1 ..................................................\n",
      "[CV] ................................... C=1, gamma=0.1, total=   0.0s\n",
      "[CV] C=1, gamma=0.1 ..................................................\n",
      "[CV] ................................... C=1, gamma=0.1, total=   0.0s\n",
      "[CV] C=1, gamma=0.1 ..................................................\n",
      "[CV] ................................... C=1, gamma=0.1, total=   0.0s\n",
      "[CV] C=1, gamma=0.01 .................................................\n",
      "[CV] .................................. C=1, gamma=0.01, total=   0.0s\n",
      "[CV] C=1, gamma=0.01 .................................................\n",
      "[CV] .................................. C=1, gamma=0.01, total=   0.0s\n",
      "[CV] C=1, gamma=0.01 .................................................\n",
      "[CV] .................................. C=1, gamma=0.01, total=   0.0s\n",
      "[CV] C=1, gamma=0.001 ................................................\n",
      "[CV] ................................. C=1, gamma=0.001, total=   0.0s\n",
      "[CV] C=1, gamma=0.001 ................................................\n",
      "[CV] ................................. C=1, gamma=0.001, total=   0.0s\n",
      "[CV] C=1, gamma=0.001 ................................................\n",
      "[CV] ................................. C=1, gamma=0.001, total=   0.0s\n",
      "[CV] C=10, gamma=1 ...................................................\n",
      "[CV] .................................... C=10, gamma=1, total=   0.0s\n",
      "[CV] C=10, gamma=1 ...................................................\n",
      "[CV] .................................... C=10, gamma=1, total=   0.0s\n",
      "[CV] C=10, gamma=1 ...................................................\n",
      "[CV] .................................... C=10, gamma=1, total=   0.0s\n",
      "[CV] C=10, gamma=0.1 .................................................\n",
      "[CV] .................................. C=10, gamma=0.1, total=   0.0s\n",
      "[CV] C=10, gamma=0.1 .................................................\n",
      "[CV] .................................. C=10, gamma=0.1, total=   0.0s\n",
      "[CV] C=10, gamma=0.1 .................................................\n",
      "[CV] .................................. C=10, gamma=0.1, total=   0.0s\n",
      "[CV] C=10, gamma=0.01 ................................................\n",
      "[CV] ................................. C=10, gamma=0.01, total=   0.0s\n",
      "[CV] C=10, gamma=0.01 ................................................\n",
      "[CV] ................................. C=10, gamma=0.01, total=   0.0s\n",
      "[CV] C=10, gamma=0.01 ................................................\n",
      "[CV] ................................. C=10, gamma=0.01, total=   0.0s\n",
      "[CV] C=10, gamma=0.001 ...............................................\n",
      "[CV] ................................ C=10, gamma=0.001, total=   0.0s\n",
      "[CV] C=10, gamma=0.001 ...............................................\n"
     ]
    },
    {
     "name": "stderr",
     "output_type": "stream",
     "text": [
      "[Parallel(n_jobs=1)]: Done   1 out of   1 | elapsed:    0.0s remaining:    0.0s\n"
     ]
    },
    {
     "name": "stdout",
     "output_type": "stream",
     "text": [
      "[CV] ................................ C=10, gamma=0.001, total=   0.0s\n",
      "[CV] C=10, gamma=0.001 ...............................................\n",
      "[CV] ................................ C=10, gamma=0.001, total=   0.0s\n",
      "[CV] C=100, gamma=1 ..................................................\n",
      "[CV] ................................... C=100, gamma=1, total=   0.0s\n",
      "[CV] C=100, gamma=1 ..................................................\n",
      "[CV] ................................... C=100, gamma=1, total=   0.0s\n",
      "[CV] C=100, gamma=1 ..................................................\n",
      "[CV] ................................... C=100, gamma=1, total=   0.0s\n",
      "[CV] C=100, gamma=0.1 ................................................\n",
      "[CV] ................................. C=100, gamma=0.1, total=   0.0s\n",
      "[CV] C=100, gamma=0.1 ................................................\n",
      "[CV] ................................. C=100, gamma=0.1, total=   0.0s\n",
      "[CV] C=100, gamma=0.1 ................................................\n",
      "[CV] ................................. C=100, gamma=0.1, total=   0.0s\n",
      "[CV] C=100, gamma=0.01 ...............................................\n",
      "[CV] ................................ C=100, gamma=0.01, total=   0.0s\n",
      "[CV] C=100, gamma=0.01 ...............................................\n",
      "[CV] ................................ C=100, gamma=0.01, total=   0.0s\n",
      "[CV] C=100, gamma=0.01 ...............................................\n",
      "[CV] ................................ C=100, gamma=0.01, total=   0.0s\n",
      "[CV] C=100, gamma=0.001 ..............................................\n",
      "[CV] ............................... C=100, gamma=0.001, total=   0.0s\n",
      "[CV] C=100, gamma=0.001 ..............................................\n",
      "[CV] ............................... C=100, gamma=0.001, total=   0.0s\n",
      "[CV] C=100, gamma=0.001 ..............................................\n",
      "[CV] ............................... C=100, gamma=0.001, total=   0.0s\n"
     ]
    },
    {
     "name": "stderr",
     "output_type": "stream",
     "text": [
      "[Parallel(n_jobs=1)]: Done  48 out of  48 | elapsed:    0.2s finished\n"
     ]
    },
    {
     "data": {
      "text/plain": [
       "GridSearchCV(cv=None, error_score='raise',\n",
       "       estimator=SVC(C=1.0, cache_size=200, class_weight=None, coef0=0.0,\n",
       "  decision_function_shape='ovr', degree=3, gamma='auto', kernel='rbf',\n",
       "  max_iter=-1, probability=False, random_state=None, shrinking=True,\n",
       "  tol=0.001, verbose=False),\n",
       "       fit_params=None, iid=True, n_jobs=1,\n",
       "       param_grid={'C': [0.1, 1, 10, 100], 'gamma': [1, 0.1, 0.01, 0.001]},\n",
       "       pre_dispatch='2*n_jobs', refit=True, return_train_score='warn',\n",
       "       scoring=None, verbose=2)"
      ]
     },
     "execution_count": 17,
     "metadata": {},
     "output_type": "execute_result"
    }
   ],
   "source": [
    "from sklearn.model_selection import GridSearchCV\n",
    "\n",
    "param_grid = {'C': [0.1,1, 10, 100], 'gamma': [1,0.1,0.01,0.001]} \n",
    "\n",
    "grid = GridSearchCV(SVC(),param_grid,refit=True,verbose=2)\n",
    "grid.fit(X_train,y_train)\n"
   ]
  },
  {
   "cell_type": "markdown",
   "metadata": {},
   "source": [
    "** Now take that grid model and create some predictions using the test set and create classification reports and confusion matrices for them. Were you able to improve?**"
   ]
  },
  {
   "cell_type": "code",
   "execution_count": 18,
   "metadata": {},
   "outputs": [
    {
     "name": "stdout",
     "output_type": "stream",
     "text": [
      "[[ 6 10]\n",
      " [ 6  8]]\n"
     ]
    }
   ],
   "source": [
    "grid_predictions = grid.predict(X_test)\n",
    "print(confusion_matrix(y_test,grid_predictions))\n"
   ]
  },
  {
   "cell_type": "code",
   "execution_count": 19,
   "metadata": {},
   "outputs": [
    {
     "name": "stdout",
     "output_type": "stream",
     "text": [
      "             precision    recall  f1-score   support\n",
      "\n",
      "     Celiac       0.50      0.38      0.43        16\n",
      "    Healthy       0.44      0.57      0.50        14\n",
      "\n",
      "avg / total       0.47      0.47      0.46        30\n",
      "\n"
     ]
    }
   ],
   "source": [
    "print(classification_report(y_test,grid_predictions))"
   ]
  },
  {
   "cell_type": "code",
   "execution_count": 20,
   "metadata": {},
   "outputs": [
    {
     "data": {
      "text/plain": [
       "{'C': 100, 'gamma': 1}"
      ]
     },
     "execution_count": 20,
     "metadata": {},
     "output_type": "execute_result"
    }
   ],
   "source": [
    "grid.best_params_"
   ]
  },
  {
   "cell_type": "code",
   "execution_count": 21,
   "metadata": {},
   "outputs": [
    {
     "data": {
      "text/plain": [
       "SVC(C=100, cache_size=200, class_weight=None, coef0=0.0,\n",
       "  decision_function_shape='ovr', degree=3, gamma=1, kernel='rbf',\n",
       "  max_iter=-1, probability=False, random_state=None, shrinking=True,\n",
       "  tol=0.001, verbose=False)"
      ]
     },
     "execution_count": 21,
     "metadata": {},
     "output_type": "execute_result"
    }
   ],
   "source": [
    "grid.best_estimator_"
   ]
  },
  {
   "cell_type": "code",
   "execution_count": null,
   "metadata": {},
   "outputs": [],
   "source": []
  },
  {
   "cell_type": "code",
   "execution_count": null,
   "metadata": {},
   "outputs": [],
   "source": []
  },
  {
   "cell_type": "markdown",
   "metadata": {},
   "source": [
    "We'll skip the Data Viz part for this lecture since there are so many features that are hard to interpret if you don't have domain knowledge of cancer or tumor cells. In your project you will have more to visualize for the data."
   ]
  },
  {
   "cell_type": "markdown",
   "metadata": {},
   "source": [
    "## Predictions and Evaluations\n",
    "\n",
    "Now let's predict using the trained model."
   ]
  },
  {
   "cell_type": "markdown",
   "metadata": {},
   "source": [
    "Notice that we are classifying everything into a single class. This means our model needs to have its parameters adjusted (it may also help to normalize the data).\n",
    "\n",
    "We can search for parameters using a GridSearch."
   ]
  },
  {
   "cell_type": "markdown",
   "metadata": {},
   "source": [
    "# Gridsearch\n",
    "\n",
    "Finding the right parameters (like what C or gamma values to use) is a tricky task! But luckily, we can be a little lazy and just try a bunch of combinations and see what works best! This idea of creating a 'grid' of parameters and just trying out all the possible combinations is called a Gridsearch, this method is common enough that Scikit-learn has this functionality built in with GridSearchCV! The CV stands for cross-validation which is the\n",
    "\n",
    "GridSearchCV takes a dictionary that describes the parameters that should be tried and a model to train. The grid of parameters is defined as a dictionary, where the keys are the parameters and the values are the settings to be tested. "
   ]
  },
  {
   "cell_type": "code",
   "execution_count": 63,
   "metadata": {
    "collapsed": true
   },
   "outputs": [],
   "source": [
    "param_grid = {'C': [0.1,1, 10, 100, 1000], 'gamma': [1,0.1,0.01,0.001,0.0001], 'kernel': ['rbf']} "
   ]
  },
  {
   "cell_type": "code",
   "execution_count": 64,
   "metadata": {
    "collapsed": true
   },
   "outputs": [],
   "source": [
    "from sklearn.model_selection import GridSearchCV"
   ]
  },
  {
   "cell_type": "markdown",
   "metadata": {},
   "source": [
    "One of the great things about GridSearchCV is that it is a meta-estimator. It takes an estimator like SVC, and creates a new estimator, that behaves exactly the same - in this case, like a classifier. You should add refit=True and choose verbose to whatever number you want, higher the number, the more verbose (verbose just means the text output describing the process)."
   ]
  },
  {
   "cell_type": "code",
   "execution_count": 65,
   "metadata": {
    "collapsed": true
   },
   "outputs": [],
   "source": [
    "grid = GridSearchCV(SVC(),param_grid,refit=True,verbose=3)"
   ]
  },
  {
   "cell_type": "markdown",
   "metadata": {},
   "source": [
    "What fit does is a bit more involved then usual. First, it runs the same loop with cross-validation, to find the best parameter combination. Once it has the best combination, it runs fit again on all data passed to fit (without cross-validation), to built a single new model using the best parameter setting."
   ]
  },
  {
   "cell_type": "code",
   "execution_count": 40,
   "metadata": {},
   "outputs": [
    {
     "name": "stdout",
     "output_type": "stream",
     "text": [
      "Fitting 3 folds for each of 25 candidates, totalling 75 fits\n",
      "[CV] gamma=1, C=0.1, kernel=rbf ......................................\n",
      "[CV] ............. gamma=1, C=0.1, kernel=rbf, score=0.631579 -   0.0s\n",
      "[CV] gamma=1, C=0.1, kernel=rbf ......................................\n",
      "[CV] ............. gamma=1, C=0.1, kernel=rbf, score=0.631579 -   0.0s\n",
      "[CV] gamma=1, C=0.1, kernel=rbf ......................................\n",
      "[CV] ............. gamma=1, C=0.1, kernel=rbf, score=0.636364 -   0.0s\n",
      "[CV] gamma=0.1, C=0.1, kernel=rbf ....................................\n",
      "[CV] ........... gamma=0.1, C=0.1, kernel=rbf, score=0.631579 -   0.0s\n",
      "[CV] gamma=0.1, C=0.1, kernel=rbf ....................................\n",
      "[CV] ........... gamma=0.1, C=0.1, kernel=rbf, score=0.631579 -   0.0s\n",
      "[CV] gamma=0.1, C=0.1, kernel=rbf ....................................\n",
      "[CV] ........... gamma=0.1, C=0.1, kernel=rbf, score=0.636364 -   0.0s\n",
      "[CV] gamma=0.01, C=0.1, kernel=rbf ...................................\n",
      "[CV] .......... gamma=0.01, C=0.1, kernel=rbf, score=0.631579 -   0.0s\n",
      "[CV] gamma=0.01, C=0.1, kernel=rbf ...................................\n",
      "[CV] .......... gamma=0.01, C=0.1, kernel=rbf, score=0.631579 -   0.0s\n",
      "[CV] gamma=0.01, C=0.1, kernel=rbf ...................................\n",
      "[CV] .......... gamma=0.01, C=0.1, kernel=rbf, score=0.636364 -   0.0s\n",
      "[CV] gamma=0.001, C=0.1, kernel=rbf ..................................\n",
      "[CV] ......... gamma=0.001, C=0.1, kernel=rbf, score=0.631579 -   0.0s\n",
      "[CV] gamma=0.001, C=0.1, kernel=rbf ..................................\n",
      "[CV] ......... gamma=0.001, C=0.1, kernel=rbf, score=0.631579 -   0.0s\n",
      "[CV] gamma=0.001, C=0.1, kernel=rbf ..................................\n",
      "[CV] ......... gamma=0.001, C=0.1, kernel=rbf, score=0.636364 -   0.0s\n",
      "[CV] gamma=0.0001, C=0.1, kernel=rbf .................................\n",
      "[CV] ........ gamma=0.0001, C=0.1, kernel=rbf, score=0.902256 -   0.0s\n",
      "[CV] gamma=0.0001, C=0.1, kernel=rbf .................................\n",
      "[CV] ........ gamma=0.0001, C=0.1, kernel=rbf, score=0.962406 -   0.0s\n",
      "[CV] gamma=0.0001, C=0.1, kernel=rbf .................................\n",
      "[CV] ........ gamma=0.0001, C=0.1, kernel=rbf, score=0.916667 -   0.0s\n",
      "[CV] gamma=1, C=1, kernel=rbf ........................................\n",
      "[CV] ............... gamma=1, C=1, kernel=rbf, score=0.631579 -   0.0s\n",
      "[CV] gamma=1, C=1, kernel=rbf ........................................\n",
      "[CV] ............... gamma=1, C=1, kernel=rbf, score=0.631579 -   0.0s\n",
      "[CV] gamma=1, C=1, kernel=rbf ........................................\n",
      "[CV] ............... gamma=1, C=1, kernel=rbf, score=0.636364 -   0.0s\n",
      "[CV] gamma=0.1, C=1, kernel=rbf ......................................\n",
      "[CV] ............. gamma=0.1, C=1, kernel=rbf, score=0.631579 -   0.0s\n",
      "[CV] gamma=0.1, C=1, kernel=rbf ......................................\n",
      "[CV] ............. gamma=0.1, C=1, kernel=rbf, score=0.631579 -   0.0s\n",
      "[CV] gamma=0.1, C=1, kernel=rbf ......................................\n",
      "[CV] ............. gamma=0.1, C=1, kernel=rbf, score=0.636364 -   0.0s\n",
      "[CV] gamma=0.01, C=1, kernel=rbf .....................................\n",
      "[CV] ............ gamma=0.01, C=1, kernel=rbf, score=0.631579 -   0.0s\n",
      "[CV] gamma=0.01, C=1, kernel=rbf .....................................\n",
      "[CV] ............ gamma=0.01, C=1, kernel=rbf, score=0.631579 -   0.0s\n",
      "[CV] gamma=0.01, C=1, kernel=rbf .....................................\n",
      "[CV] ............ gamma=0.01, C=1, kernel=rbf, score=0.636364 -   0.0s\n",
      "[CV] gamma=0.001, C=1, kernel=rbf ....................................\n",
      "[CV] ........... gamma=0.001, C=1, kernel=rbf, score=0.902256 -   0.0s\n",
      "[CV] gamma=0.001, C=1, kernel=rbf ....................................\n",
      "[CV] ........... gamma=0.001, C=1, kernel=rbf, score=0.939850 -   0.0s\n",
      "[CV] gamma=0.001, C=1, kernel=rbf ....................................\n",
      "[CV] ........... gamma=0.001, C=1, kernel=rbf, score=0.954545 -   0.0s\n",
      "[CV] gamma=0.0001, C=1, kernel=rbf ...................................\n",
      "[CV] .......... gamma=0.0001, C=1, kernel=rbf, score=0.939850 -   0.0s\n",
      "[CV] gamma=0.0001, C=1, kernel=rbf ...................................\n",
      "[CV] .......... gamma=0.0001, C=1, kernel=rbf, score=0.969925 -   0.0s\n",
      "[CV] gamma=0.0001, C=1, kernel=rbf ...................................\n",
      "[CV] .......... gamma=0.0001, C=1, kernel=rbf, score=0.946970 -   0.0s\n",
      "[CV] gamma=1, C=10, kernel=rbf .......................................\n",
      "[CV] .............. gamma=1, C=10, kernel=rbf, score=0.631579 -   0.0s\n",
      "[CV] gamma=1, C=10, kernel=rbf .......................................\n",
      "[CV] .............. gamma=1, C=10, kernel=rbf, score=0.631579 -   0.0s\n",
      "[CV] gamma=1, C=10, kernel=rbf .......................................\n",
      "[CV] .............. gamma=1, C=10, kernel=rbf, score=0.636364 -   0.0s\n",
      "[CV] gamma=0.1, C=10, kernel=rbf .....................................\n",
      "[CV] ............ gamma=0.1, C=10, kernel=rbf, score=0.631579 -   0.0s\n",
      "[CV] gamma=0.1, C=10, kernel=rbf .....................................\n",
      "[CV] ............ gamma=0.1, C=10, kernel=rbf, score=0.631579 -   0.0s\n",
      "[CV] gamma=0.1, C=10, kernel=rbf .....................................\n",
      "[CV] ............ gamma=0.1, C=10, kernel=rbf, score=0.636364 -   0.0s\n",
      "[CV] gamma=0.01, C=10, kernel=rbf ....................................\n",
      "[CV] ........... gamma=0.01, C=10, kernel=rbf, score=0.631579 -   0.0s\n",
      "[CV] gamma=0.01, C=10, kernel=rbf ....................................\n",
      "[CV] ........... gamma=0.01, C=10, kernel=rbf, score=0.631579 -   0.0s\n",
      "[CV] gamma=0.01, C=10, kernel=rbf ....................................\n",
      "[CV] ........... gamma=0.01, C=10, kernel=rbf, score=0.636364 -   0.0s\n",
      "[CV] gamma=0.001, C=10, kernel=rbf ...................................\n",
      "[CV] .......... gamma=0.001, C=10, kernel=rbf, score=0.894737 -   0.0s\n",
      "[CV] gamma=0.001, C=10, kernel=rbf ...................................\n",
      "[CV] .......... gamma=0.001, C=10, kernel=rbf, score=0.932331 -   0.0s\n",
      "[CV] gamma=0.001, C=10, kernel=rbf ...................................\n",
      "[CV] .......... gamma=0.001, C=10, kernel=rbf, score=0.916667 -   0.0s\n",
      "[CV] gamma=0.0001, C=10, kernel=rbf ..................................\n",
      "[CV] ......... gamma=0.0001, C=10, kernel=rbf, score=0.932331 -   0.0s\n",
      "[CV] gamma=0.0001, C=10, kernel=rbf ..................................\n",
      "[CV] ......... gamma=0.0001, C=10, kernel=rbf, score=0.969925 -   0.0s\n",
      "[CV] gamma=0.0001, C=10, kernel=rbf ..................................\n",
      "[CV] ......... gamma=0.0001, C=10, kernel=rbf, score=0.962121 -   0.0s\n",
      "[CV] gamma=1, C=100, kernel=rbf ......................................\n",
      "[CV] ............. gamma=1, C=100, kernel=rbf, score=0.631579 -   0.0s\n",
      "[CV] gamma=1, C=100, kernel=rbf ......................................\n",
      "[CV] ............. gamma=1, C=100, kernel=rbf, score=0.631579 -   0.0s\n",
      "[CV] gamma=1, C=100, kernel=rbf ......................................\n",
      "[CV] ............. gamma=1, C=100, kernel=rbf, score=0.636364 -   0.0s\n",
      "[CV] gamma=0.1, C=100, kernel=rbf ....................................\n",
      "[CV] ........... gamma=0.1, C=100, kernel=rbf, score=0.631579 -   0.0s\n",
      "[CV] gamma=0.1, C=100, kernel=rbf ....................................\n",
      "[CV] ........... gamma=0.1, C=100, kernel=rbf, score=0.631579 -   0.0s\n",
      "[CV] gamma=0.1, C=100, kernel=rbf ....................................\n",
      "[CV] ........... gamma=0.1, C=100, kernel=rbf, score=0.636364 -   0.0s\n",
      "[CV] gamma=0.01, C=100, kernel=rbf ...................................\n",
      "[CV] .......... gamma=0.01, C=100, kernel=rbf, score=0.631579 -   0.0s\n",
      "[CV] gamma=0.01, C=100, kernel=rbf ...................................\n",
      "[CV] .......... gamma=0.01, C=100, kernel=rbf, score=0.631579 -   0.0s\n",
      "[CV] gamma=0.01, C=100, kernel=rbf ...................................\n",
      "[CV] .......... gamma=0.01, C=100, kernel=rbf, score=0.636364 -   0.0s\n",
      "[CV] gamma=0.001, C=100, kernel=rbf ..................................\n",
      "[CV] ......... gamma=0.001, C=100, kernel=rbf, score=0.894737 -   0.0s\n",
      "[CV] gamma=0.001, C=100, kernel=rbf ..................................\n",
      "[CV] ......... gamma=0.001, C=100, kernel=rbf, score=0.932331 -   0.0s\n",
      "[CV] gamma=0.001, C=100, kernel=rbf ..................................\n",
      "[CV] ......... gamma=0.001, C=100, kernel=rbf, score=0.916667 -   0.0s\n",
      "[CV] gamma=0.0001, C=100, kernel=rbf .................................\n",
      "[CV] ........ gamma=0.0001, C=100, kernel=rbf, score=0.917293 -   0.0s\n",
      "[CV] gamma=0.0001, C=100, kernel=rbf .................................\n",
      "[CV] ........ gamma=0.0001, C=100, kernel=rbf, score=0.977444 -   0.0s\n",
      "[CV] gamma=0.0001, C=100, kernel=rbf .................................\n",
      "[CV] ........ gamma=0.0001, C=100, kernel=rbf, score=0.939394 -   0.0s\n",
      "[CV] gamma=1, C=1000, kernel=rbf .....................................\n",
      "[CV] ............ gamma=1, C=1000, kernel=rbf, score=0.631579 -   0.0s\n",
      "[CV] gamma=1, C=1000, kernel=rbf .....................................\n",
      "[CV] ............ gamma=1, C=1000, kernel=rbf, score=0.631579 -   0.0s\n",
      "[CV] gamma=1, C=1000, kernel=rbf .....................................\n",
      "[CV] ............ gamma=1, C=1000, kernel=rbf, score=0.636364 -   0.0s\n",
      "[CV] gamma=0.1, C=1000, kernel=rbf ...................................\n",
      "[CV] .......... gamma=0.1, C=1000, kernel=rbf, score=0.631579 -   0.0s\n",
      "[CV] gamma=0.1, C=1000, kernel=rbf ...................................\n",
      "[CV] .......... gamma=0.1, C=1000, kernel=rbf, score=0.631579 -   0.0s\n",
      "[CV] gamma=0.1, C=1000, kernel=rbf ...................................\n",
      "[CV] .......... gamma=0.1, C=1000, kernel=rbf, score=0.636364 -   0.0s\n",
      "[CV] gamma=0.01, C=1000, kernel=rbf ..................................\n",
      "[CV] ......... gamma=0.01, C=1000, kernel=rbf, score=0.631579 -   0.0s\n",
      "[CV] gamma=0.01, C=1000, kernel=rbf ..................................\n",
      "[CV] ......... gamma=0.01, C=1000, kernel=rbf, score=0.631579 -   0.0s\n",
      "[CV] gamma=0.01, C=1000, kernel=rbf ..................................\n",
      "[CV] ......... gamma=0.01, C=1000, kernel=rbf, score=0.636364 -   0.0s\n",
      "[CV] gamma=0.001, C=1000, kernel=rbf .................................\n",
      "[CV] ........ gamma=0.001, C=1000, kernel=rbf, score=0.894737 -   0.0s\n",
      "[CV] gamma=0.001, C=1000, kernel=rbf .................................\n",
      "[CV] ........ gamma=0.001, C=1000, kernel=rbf, score=0.932331 -   0.0s\n",
      "[CV] gamma=0.001, C=1000, kernel=rbf .................................\n",
      "[CV] ........ gamma=0.001, C=1000, kernel=rbf, score=0.916667 -   0.0s"
     ]
    },
    {
     "name": "stderr",
     "output_type": "stream",
     "text": [
      "[Parallel(n_jobs=1)]: Done  31 tasks       | elapsed:    0.3s\n",
      "[Parallel(n_jobs=1)]: Done  75 out of  75 | elapsed:    0.8s finished\n"
     ]
    },
    {
     "name": "stdout",
     "output_type": "stream",
     "text": [
      "\n",
      "[CV] gamma=0.0001, C=1000, kernel=rbf ................................\n",
      "[CV] ....... gamma=0.0001, C=1000, kernel=rbf, score=0.909774 -   0.0s\n",
      "[CV] gamma=0.0001, C=1000, kernel=rbf ................................\n",
      "[CV] ....... gamma=0.0001, C=1000, kernel=rbf, score=0.969925 -   0.0s\n",
      "[CV] gamma=0.0001, C=1000, kernel=rbf ................................\n",
      "[CV] ....... gamma=0.0001, C=1000, kernel=rbf, score=0.931818 -   0.0s\n"
     ]
    },
    {
     "data": {
      "text/plain": [
       "GridSearchCV(cv=None, error_score='raise',\n",
       "       estimator=SVC(C=1.0, cache_size=200, class_weight=None, coef0=0.0,\n",
       "  decision_function_shape=None, degree=3, gamma='auto', kernel='rbf',\n",
       "  max_iter=-1, probability=False, random_state=None, shrinking=True,\n",
       "  tol=0.001, verbose=False),\n",
       "       fit_params={}, iid=True, n_jobs=1,\n",
       "       param_grid={'gamma': [1, 0.1, 0.01, 0.001, 0.0001], 'C': [0.1, 1, 10, 100, 1000], 'kernel': ['rbf']},\n",
       "       pre_dispatch='2*n_jobs', refit=True, scoring=None, verbose=3)"
      ]
     },
     "execution_count": 40,
     "metadata": {},
     "output_type": "execute_result"
    }
   ],
   "source": [
    "# May take awhile!\n",
    "grid.fit(X_train,y_train)"
   ]
  },
  {
   "cell_type": "markdown",
   "metadata": {},
   "source": [
    "You can inspect the best parameters found by GridSearchCV in the best_params_ attribute, and the best estimator in the best\\_estimator_ attribute:"
   ]
  },
  {
   "cell_type": "code",
   "execution_count": 41,
   "metadata": {},
   "outputs": [
    {
     "data": {
      "text/plain": [
       "{'C': 10, 'gamma': 0.0001, 'kernel': 'rbf'}"
      ]
     },
     "execution_count": 41,
     "metadata": {},
     "output_type": "execute_result"
    }
   ],
   "source": [
    "grid.best_params_"
   ]
  },
  {
   "cell_type": "code",
   "execution_count": null,
   "metadata": {},
   "outputs": [],
   "source": [
    "grid.best_estimator_"
   ]
  },
  {
   "cell_type": "markdown",
   "metadata": {},
   "source": [
    "Then you can re-run predictions on this grid object just like you would with a normal model."
   ]
  },
  {
   "cell_type": "code",
   "execution_count": 48,
   "metadata": {},
   "outputs": [],
   "source": [
    "grid_predictions = grid.predict(X_test)"
   ]
  },
  {
   "cell_type": "code",
   "execution_count": 49,
   "metadata": {},
   "outputs": [
    {
     "name": "stdout",
     "output_type": "stream",
     "text": [
      "[[ 60   6]\n",
      " [  3 102]]\n"
     ]
    }
   ],
   "source": [
    "print(confusion_matrix(y_test,grid_predictions))"
   ]
  },
  {
   "cell_type": "code",
   "execution_count": 50,
   "metadata": {},
   "outputs": [
    {
     "name": "stdout",
     "output_type": "stream",
     "text": [
      "             precision    recall  f1-score   support\n",
      "\n",
      "          0       0.95      0.91      0.93        66\n",
      "          1       0.94      0.97      0.96       105\n",
      "\n",
      "avg / total       0.95      0.95      0.95       171\n",
      "\n"
     ]
    }
   ],
   "source": [
    "print(classification_report(y_test,grid_predictions))"
   ]
  }
 ],
 "metadata": {
  "anaconda-cloud": {},
  "kernelspec": {
   "display_name": "Python 3",
   "language": "python",
   "name": "python3"
  },
  "language_info": {
   "codemirror_mode": {
    "name": "ipython",
    "version": 3
   },
   "file_extension": ".py",
   "mimetype": "text/x-python",
   "name": "python",
   "nbconvert_exporter": "python",
   "pygments_lexer": "ipython3",
   "version": "3.6.4"
  }
 },
 "nbformat": 4,
 "nbformat_minor": 1
}
